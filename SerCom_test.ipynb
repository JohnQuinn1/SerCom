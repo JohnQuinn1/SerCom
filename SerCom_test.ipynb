{
 "cells": [
  {
   "cell_type": "code",
   "execution_count": 1,
   "metadata": {},
   "outputs": [],
   "source": [
    "import sercom"
   ]
  },
  {
   "cell_type": "code",
   "execution_count": null,
   "metadata": {},
   "outputs": [],
   "source": [
    "!python setup.py install"
   ]
  },
  {
   "cell_type": "code",
   "execution_count": 2,
   "metadata": {},
   "outputs": [],
   "source": [
    "S = sercom.SerCom()"
   ]
  },
  {
   "cell_type": "code",
   "execution_count": 3,
   "metadata": {},
   "outputs": [
    {
     "name": "stdout",
     "output_type": "stream",
     "text": [
      "Help on SerCom in module sercom.sercom object:\n",
      "\n",
      "class SerCom(builtins.object)\n",
      " |  SerCom(port: str = 'com4', baudrate: int = 57600, bytesize=8, parity='N', stopbits=1, xonxoff: bool = False, timeout: float = 1.0)\n",
      " |  \n",
      " |  Class to send and receive strings over serial connections\n",
      " |  and which handles multiple serial port openings gracefully.\n",
      " |  \n",
      " |  The class member \"serial\" is an instance of serial.Serial \n",
      " |  and can be used to call additional pyserial functions such\n",
      " |  as flush() etc. \n",
      " |  \n",
      " |  Notes: RBD 9103 Picoammater needs baudrate of 57600\n",
      " |         Rapsberry Pi Pico needs baudrate of 9600\n",
      " |  \n",
      " |  Methods defined here:\n",
      " |  \n",
      " |  __init__(self, port: str = 'com4', baudrate: int = 57600, bytesize=8, parity='N', stopbits=1, xonxoff: bool = False, timeout: float = 1.0)\n",
      " |      Open a serial connection with given parameters.\n",
      " |      For help on the options see the serial.Serial help.\n",
      " |  \n",
      " |  print_config(self) -> None\n",
      " |      Print the port configuration\n",
      " |  \n",
      " |  readline(self) -> str\n",
      " |      read one line (\n",
      " |      terminated) from the serial device\n",
      " |  \n",
      " |  readlines(self) -> List[str]\n",
      " |      read multiple lines from the serial device.\n",
      " |      Returns a list of strings with one string for each line read.\n",
      " |      Needs timeout to be set to know when to end.\n",
      " |  \n",
      " |  send(self, text: str) -> None\n",
      " |      send a string to the serial device\n",
      " |  \n",
      " |  ----------------------------------------------------------------------\n",
      " |  Data descriptors defined here:\n",
      " |  \n",
      " |  __dict__\n",
      " |      dictionary for instance variables (if defined)\n",
      " |  \n",
      " |  __weakref__\n",
      " |      list of weak references to the object (if defined)\n",
      " |  \n",
      " |  ----------------------------------------------------------------------\n",
      " |  Data and other attributes defined here:\n",
      " |  \n",
      " |  configured_ports = {'com4': Serial<id=0x5212d30, open=True>(port='com4...\n",
      "\n"
     ]
    }
   ],
   "source": [
    "help(S)"
   ]
  },
  {
   "cell_type": "markdown",
   "metadata": {},
   "source": [
    "# Test RBD Picommeter"
   ]
  },
  {
   "cell_type": "code",
   "execution_count": 4,
   "metadata": {},
   "outputs": [
    {
     "data": {
      "text/plain": [
       "['RBD Instruments: PicoAmmeter',\n",
       " 'Firmware Version: 01.37',\n",
       " 'Build: 5-14-13',\n",
       " 'R, Range=AutoR',\n",
       " 'I, sample Interval=0000 mSec',\n",
       " 'L, Chart Log Update Interval=0200 mSec',\n",
       " 'B, BIAS=OFF',\n",
       " 'F, Filter=032',\n",
       " 'V, FormatLen=5',\n",
       " 'CA, Autocal=OFF',\n",
       " 'G, AutoGrounding=DISABLED',\n",
       " 'Q, State=MEASURE',\n",
       " 'P, PID=NUV_2']"
      ]
     },
     "execution_count": 4,
     "metadata": {},
     "output_type": "execute_result"
    }
   ],
   "source": [
    "S.send(\"&Q\")\n",
    "S.readlines()"
   ]
  },
  {
   "cell_type": "markdown",
   "metadata": {},
   "source": [
    "## Try re-opening port without closing"
   ]
  },
  {
   "cell_type": "code",
   "execution_count": 6,
   "metadata": {},
   "outputs": [
    {
     "name": "stdout",
     "output_type": "stream",
     "text": [
      "Port com4 has already been configured - reopening\n"
     ]
    },
    {
     "data": {
      "text/plain": [
       "['RBD Instruments: PicoAmmeter',\n",
       " 'Firmware Version: 01.37',\n",
       " 'Build: 5-14-13',\n",
       " 'R, Range=AutoR',\n",
       " 'I, sample Interval=0000 mSec',\n",
       " 'L, Chart Log Update Interval=0200 mSec',\n",
       " 'B, BIAS=OFF',\n",
       " 'F, Filter=032',\n",
       " 'V, FormatLen=5',\n",
       " 'CA, Autocal=OFF',\n",
       " 'G, AutoGrounding=DISABLED',\n",
       " 'Q, State=MEASURE',\n",
       " 'P, PID=NUV_2']"
      ]
     },
     "execution_count": 6,
     "metadata": {},
     "output_type": "execute_result"
    }
   ],
   "source": [
    "S = sercom.SerCom()\n",
    "S.send(\"&Q\")\n",
    "S.readlines()"
   ]
  }
 ],
 "metadata": {
  "kernelspec": {
   "display_name": "Python 3",
   "language": "python",
   "name": "python3"
  },
  "language_info": {
   "codemirror_mode": {
    "name": "ipython",
    "version": 3
   },
   "file_extension": ".py",
   "mimetype": "text/x-python",
   "name": "python",
   "nbconvert_exporter": "python",
   "pygments_lexer": "ipython3",
   "version": "3.7.3"
  },
  "latex_envs": {
   "LaTeX_envs_menu_present": true,
   "autoclose": true,
   "autocomplete": true,
   "bibliofile": "biblio.bib",
   "cite_by": "apalike",
   "current_citInitial": 1,
   "eqLabelWithNumbers": true,
   "eqNumInitial": 1,
   "hotkeys": {
    "equation": "Ctrl-E",
    "itemize": "Ctrl-I"
   },
   "labels_anchors": false,
   "latex_user_defs": false,
   "report_style_numbering": true,
   "user_envs_cfg": false
  },
  "toc": {
   "base_numbering": 1,
   "nav_menu": {},
   "number_sections": true,
   "sideBar": true,
   "skip_h1_title": false,
   "title_cell": "Table of Contents",
   "title_sidebar": "Contents",
   "toc_cell": false,
   "toc_position": {},
   "toc_section_display": true,
   "toc_window_display": false
  },
  "varInspector": {
   "cols": {
    "lenName": 16,
    "lenType": 16,
    "lenVar": 40
   },
   "kernels_config": {
    "python": {
     "delete_cmd_postfix": "",
     "delete_cmd_prefix": "del ",
     "library": "var_list.py",
     "varRefreshCmd": "print(var_dic_list())"
    },
    "r": {
     "delete_cmd_postfix": ") ",
     "delete_cmd_prefix": "rm(",
     "library": "var_list.r",
     "varRefreshCmd": "cat(var_dic_list()) "
    }
   },
   "types_to_exclude": [
    "module",
    "function",
    "builtin_function_or_method",
    "instance",
    "_Feature"
   ],
   "window_display": false
  }
 },
 "nbformat": 4,
 "nbformat_minor": 2
}
